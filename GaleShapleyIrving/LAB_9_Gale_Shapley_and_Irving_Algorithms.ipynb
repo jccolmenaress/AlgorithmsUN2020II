{
  "nbformat": 4,
  "nbformat_minor": 0,
  "metadata": {
    "colab": {
      "name": "LAB 9 Gale-Shapley and Irving Algorithms.ipynb",
      "provenance": [],
      "collapsed_sections": []
    },
    "kernelspec": {
      "name": "python3",
      "display_name": "Python 3"
    }
  },
  "cells": [
    {
      "cell_type": "markdown",
      "metadata": {
        "id": "YaYDFIQulMJN"
      },
      "source": [
        "#1. Find the best and worst cases for the Gale-Shapley and Irving ( An Efficient Algorithm for the “Stable Roommates” Problem) Algorithms and run in Colab these algorithms for those cases for n=4 and 40"
      ]
    },
    {
      "cell_type": "markdown",
      "metadata": {
        "id": "VSepTtXHTWX3"
      },
      "source": [
        "##Gale-Shapley "
      ]
    },
    {
      "cell_type": "code",
      "metadata": {
        "id": "8iaar3Iqg0Kn"
      },
      "source": [
        "# Numero de hombres o mujeres\n",
        "N = 0\n",
        "  \n",
        "# Esta funcion retorna true si la mujer \"w\" prefiere al hombre \"m1\" sobre el hombre \"m\n",
        "\n",
        "def wPrefersM1OverM(prefer, w, m, m1, n): \n",
        "      \n",
        "    N = n  \n",
        "   # Verifica si la w prefiere la m sobre su actual compromiso m1 \n",
        "    for i in range(N): \n",
        "          \n",
        "        # Si m1 viene antes que m en list de w, entonces w prefiere su actual compromiso, no hagas nada \n",
        "        if (prefer[w][i] == m1): \n",
        "            return True\n",
        "  \n",
        "         # Si m cmes antes de m1 en la lista de w, entonces libera su compromiso actual y comprométela con m \n",
        "        if (prefer[w][i] == m): \n",
        "            return False\n",
        "            \n",
        "# Impresiones estables que coinciden con los chicos N y las chicas N.  \n",
        "# Los chicos están numerados de 0 a N-1.  \n",
        "# Las chicas son numeradas como N a 2N-1. \n",
        "def stableMarriage(prefer, n): \n",
        "      \n",
        "# Almacena pareja de mujeres. Esta es nuestra matriz de salida que almacena la información.  \n",
        "# El valor de wPartner[i] indica la pareja asignada a la mujer N+i.\n",
        "# Observe que la mujer se encuentra entre N y 2*N-1.\n",
        "#  El valor -1 indica que (N+i) la mujer es libre \n",
        "    N = n\n",
        "    wPartner = [-1 for i in range(N)] \n",
        "  \n",
        "    # Un arreglo para almacenar la disponibilidad de los hombres.  \n",
        "    # Si mFree[i] es falso, entonces el hombre 'i' es libre, de lo contrario está comprometido. \n",
        "    mFree = [False for i in range(N)] \n",
        "  \n",
        "    freeCount = N \n",
        "    count = 0\n",
        "    # Mientras haya hombres libres\n",
        "    while (freeCount > 0): \n",
        "          \n",
        "        count += 1  \n",
        "        # Escoge el primer hombre libre (podemos escoger cualquiera) \n",
        "        m = 0\n",
        "        while (m < N): \n",
        "            if (mFree[m] == False): \n",
        "                break\n",
        "            m += 1\n",
        "  \n",
        "       #Una por una van a todas las mujeres de acuerdo a las preferencias de m. Aquí m es el hombre libre elegido \n",
        "        i = 0\n",
        "        while i < N and mFree[m] == False: \n",
        "            w = prefer[m][i] \n",
        "  \n",
        "            # La mujer de preferencia es libre, w y m se convierten en socias (Nota: la sociedad puede cambiar más tarde).  \n",
        "            # Así que podemos decir que están comprometidos no casados \n",
        "            if (wPartner[w - N] == -1): \n",
        "                wPartner[w - N] = m \n",
        "                mFree[m] = True\n",
        "                freeCount -= 1\n",
        "  \n",
        "            else:  \n",
        "                  \n",
        "                # Si w no está libre\n",
        "                # Encuentra el compromiso actual de w \n",
        "                m1 = wPartner[w - N] \n",
        "  \n",
        "                # Si w prefiere m sobre su actual compromiso m1, entonces rompe el compromiso entre w y m1 y compromete m con w. \n",
        "                if (wPrefersM1OverM(prefer, w, m, m1, n) == False): \n",
        "                    wPartner[w - N] = m \n",
        "                    mFree[m] = True\n",
        "                    mFree[m1] = False\n",
        "            i += 1\n",
        "  \n",
        "    # Fin de lo demás\n",
        "    #Fin del bucle for que va a todas las mujeres de la lista de m \n",
        "    # Fin del bucle principal while \n",
        "        \n",
        "    print(\"Woman \", \" Man\") \n",
        "    for i in range(N): \n",
        "        print(i + N, \"\\t\", wPartner[i]) \n",
        "\n",
        "    print(\"Numero de veces ejecutado el algoritmo\")\n",
        "    return count"
      ],
      "execution_count": 13,
      "outputs": []
    },
    {
      "cell_type": "markdown",
      "metadata": {
        "id": "Br0ZAAkaQqLk"
      },
      "source": [
        "Best and worst cases for N=4"
      ]
    },
    {
      "cell_type": "code",
      "metadata": {
        "id": "Wn8QHLm1ZlEY",
        "colab": {
          "base_uri": "https://localhost:8080/"
        },
        "outputId": "4fb5be67-f090-4944-e65f-fea004814026"
      },
      "source": [
        "N2=4\n",
        "prefer2 = []\n",
        "\n",
        "# Llenar la lista de mujeres\n",
        "preferW = [i+N2 for i in range(N2)]\n",
        "prefer2.append(preferW[:])\n",
        "for i in range(N2-1):\n",
        "  listaux = preferW[1:N2-1]\n",
        "  elemaux = preferW[0]\n",
        "  preferW[N2-2] = elemaux\n",
        "  preferW[0:N2-2] = listaux[:]\n",
        "  prefer2.append(preferW[:])\n",
        "\n",
        "# Llenar la lista de hombres\n",
        "preferM = [i for i in range(N2)]\n",
        "for i in range(N2):\n",
        "  ax = preferM.pop(0)\n",
        "  preferM.append(ax)\n",
        "  prefer2.append(preferM[:])\n",
        "\n",
        "print(stableMarriage(prefer2,N2))"
      ],
      "execution_count": 14,
      "outputs": [
        {
          "output_type": "stream",
          "text": [
            "Woman   Man\n",
            "4 \t 1\n",
            "5 \t 2\n",
            "6 \t 3\n",
            "7 \t 0\n",
            "Numero de veces ejecutado el algoritmo\n",
            "13\n"
          ],
          "name": "stdout"
        }
      ]
    },
    {
      "cell_type": "code",
      "metadata": {
        "colab": {
          "base_uri": "https://localhost:8080/"
        },
        "id": "wnILUx4uQ3Eq",
        "outputId": "10b557f7-f7e5-44e5-b608-442128352c49"
      },
      "source": [
        "preferM = []\n",
        "preferW = []\n",
        "prefer2 = []\n",
        "\n",
        "N2=4\n",
        "\n",
        "# Llenando la lista de hombres\n",
        "preferM = [i+N2 for i in range(N2)]\n",
        "for i in range(N2):\n",
        "  ax = preferM.pop(0)\n",
        "  preferM.append(ax)\n",
        "  prefer2.append(preferM[:])\n",
        "\n",
        "# Llenando la lista de mujeres\n",
        "preferW = [i for i in range(N2)]\n",
        "for i in range(N2):\n",
        "  ax = preferW.pop(0)\n",
        "  preferW.append(ax)\n",
        "  prefer2.append(preferW[:])\n",
        "\n",
        "print(stableMarriage(prefer2,N2))"
      ],
      "execution_count": 15,
      "outputs": [
        {
          "output_type": "stream",
          "text": [
            "Woman   Man\n",
            "4 \t 3\n",
            "5 \t 0\n",
            "6 \t 1\n",
            "7 \t 2\n",
            "Numero de veces ejecutado el algoritmo\n",
            "4\n"
          ],
          "name": "stdout"
        }
      ]
    },
    {
      "cell_type": "markdown",
      "metadata": {
        "id": "iWl5dK0JQ9Fx"
      },
      "source": [
        "Best and worst cases for N=40"
      ]
    },
    {
      "cell_type": "code",
      "metadata": {
        "colab": {
          "base_uri": "https://localhost:8080/"
        },
        "id": "YK00dc9LQmuU",
        "outputId": "cea23c71-4a9c-442c-b712-c192a6ef34c4"
      },
      "source": [
        "N2=40\n",
        "prefer2 = []\n",
        "\n",
        "# Llenando la lista de mujeres\n",
        "preferW = [i+N2 for i in range(N2)]\n",
        "prefer2.append(preferW[:])\n",
        "for i in range(N2-1):\n",
        "  listaux = preferW[1:N2-1]\n",
        "  elemaux = preferW[0]\n",
        "  preferW[N2-2] = elemaux\n",
        "  preferW[0:N2-2] = listaux[:]\n",
        "  prefer2.append(preferW[:])\n",
        "\n",
        "# Llenando la lista de hombres\n",
        "preferM = [i for i in range(N2)]\n",
        "for i in range(N2):\n",
        "  ax = preferM.pop(0)\n",
        "  preferM.append(ax)\n",
        "  prefer2.append(preferM[:])\n",
        "\n",
        "print(stableMarriage(prefer2,N2))"
      ],
      "execution_count": 16,
      "outputs": [
        {
          "output_type": "stream",
          "text": [
            "Woman   Man\n",
            "40 \t 1\n",
            "41 \t 2\n",
            "42 \t 3\n",
            "43 \t 4\n",
            "44 \t 5\n",
            "45 \t 6\n",
            "46 \t 7\n",
            "47 \t 8\n",
            "48 \t 9\n",
            "49 \t 10\n",
            "50 \t 11\n",
            "51 \t 12\n",
            "52 \t 13\n",
            "53 \t 14\n",
            "54 \t 15\n",
            "55 \t 16\n",
            "56 \t 17\n",
            "57 \t 18\n",
            "58 \t 19\n",
            "59 \t 20\n",
            "60 \t 21\n",
            "61 \t 22\n",
            "62 \t 23\n",
            "63 \t 24\n",
            "64 \t 25\n",
            "65 \t 26\n",
            "66 \t 27\n",
            "67 \t 28\n",
            "68 \t 29\n",
            "69 \t 30\n",
            "70 \t 31\n",
            "71 \t 32\n",
            "72 \t 33\n",
            "73 \t 34\n",
            "74 \t 35\n",
            "75 \t 36\n",
            "76 \t 37\n",
            "77 \t 38\n",
            "78 \t 39\n",
            "79 \t 0\n",
            "Numero de veces ejecutado el algoritmo\n",
            "1561\n"
          ],
          "name": "stdout"
        }
      ]
    },
    {
      "cell_type": "code",
      "metadata": {
        "id": "MO_rqDswfDaR",
        "colab": {
          "base_uri": "https://localhost:8080/"
        },
        "outputId": "e9334920-00ff-4015-afd0-c063292cfc58"
      },
      "source": [
        "preferM = []\n",
        "preferW = []\n",
        "prefer2 = []\n",
        "\n",
        "N2=40\n",
        "\n",
        "# Llenando la lista de hombres\n",
        "preferM = [i+N2 for i in range(N2)]\n",
        "for i in range(N2):\n",
        "  ax = preferM.pop(0)\n",
        "  preferM.append(ax)\n",
        "  prefer2.append(preferM[:])\n",
        "\n",
        "# Llenando la ista de mujeres\n",
        "preferW = [i for i in range(N2)]\n",
        "for i in range(N2):\n",
        "  ax = preferW.pop(0)\n",
        "  preferW.append(ax)\n",
        "  prefer2.append(preferW[:])\n",
        "\n",
        "print(stableMarriage(prefer2,N2))"
      ],
      "execution_count": 17,
      "outputs": [
        {
          "output_type": "stream",
          "text": [
            "Woman   Man\n",
            "40 \t 39\n",
            "41 \t 0\n",
            "42 \t 1\n",
            "43 \t 2\n",
            "44 \t 3\n",
            "45 \t 4\n",
            "46 \t 5\n",
            "47 \t 6\n",
            "48 \t 7\n",
            "49 \t 8\n",
            "50 \t 9\n",
            "51 \t 10\n",
            "52 \t 11\n",
            "53 \t 12\n",
            "54 \t 13\n",
            "55 \t 14\n",
            "56 \t 15\n",
            "57 \t 16\n",
            "58 \t 17\n",
            "59 \t 18\n",
            "60 \t 19\n",
            "61 \t 20\n",
            "62 \t 21\n",
            "63 \t 22\n",
            "64 \t 23\n",
            "65 \t 24\n",
            "66 \t 25\n",
            "67 \t 26\n",
            "68 \t 27\n",
            "69 \t 28\n",
            "70 \t 29\n",
            "71 \t 30\n",
            "72 \t 31\n",
            "73 \t 32\n",
            "74 \t 33\n",
            "75 \t 34\n",
            "76 \t 35\n",
            "77 \t 36\n",
            "78 \t 37\n",
            "79 \t 38\n",
            "Numero de veces ejecutado el algoritmo\n",
            "40\n"
          ],
          "name": "stdout"
        }
      ]
    },
    {
      "cell_type": "markdown",
      "metadata": {
        "id": "fE3LoOdtYZ0y"
      },
      "source": [
        "##Irving´s algorithm"
      ]
    },
    {
      "cell_type": "code",
      "metadata": {
        "id": "oKaFBs2dctl1"
      },
      "source": [
        "import copy\n",
        "def getKey(lista, llave):\n",
        "    for key, val in lista.items():\n",
        "        if val == llave:\n",
        "            return key\n",
        "    return 0\n",
        "\n",
        "def ciclo(tabla):\n",
        "    tablaI = tabla[0]\n",
        "    tablaD = tabla[1]\n",
        "    if len(tablaI) > len(set(tablaI)):\n",
        "        return True\n",
        "    else:\n",
        "        return False\n",
        "\n",
        "def noEstable(prefer):\n",
        "    for i in prefer:\n",
        "        if len(prefer[i]) == 0:\n",
        "            return True\n",
        "    return False\n",
        "\n",
        "def esEstable(prefer):\n",
        "  for i in prefer:\n",
        "    if len(prefer[i]) != 1:\n",
        "      return False\n",
        "  return True\n",
        "\n",
        "def quitarCiclo(prefer, tabla):\n",
        "  npreferences = prefer\n",
        "  for i in range(len(tabla[0])-1):\n",
        "    npreferences[tabla[1][i]].remove(tabla[0][i+1])\n",
        "    npreferences[tabla[0][i+1]].remove(tabla[1][i])\n",
        "  return npreferences\n",
        "\n",
        "def paso1(prefer):\n",
        "  espera = []\n",
        "  propuestas={}\n",
        "  npropuestas={}\n",
        "  pasos=0\n",
        "  for i in prefer:\n",
        "    espera.append(i)\n",
        "    propuestas[i] = None\n",
        "    npropuestas[i] = 0\n",
        "  npreferences = copy.deepcopy(prefer)\n",
        "  while not len(espera)==0:\n",
        "    i=espera[0]\n",
        "    npropuestas[i]+=1\n",
        "    pasos+=1\n",
        "    if npropuestas[i]> len(propuestas):\n",
        "      print(\"No existe parejas estables.\")\n",
        "      return (False,False)\n",
        "    for j in prefer[i]:\n",
        "      if propuestas[j]==None:\n",
        "        del espera[0]\n",
        "        propuestas[j]=i\n",
        "        break\n",
        "      elif propuestas[j] != i:\n",
        "        actual = prefer[j].index(i)\n",
        "        otro = prefer[j].index(propuestas[j])\n",
        "        if actual < otro:\n",
        "          del espera[0]\n",
        "          espera.insert(0, propuestas[j])\n",
        "          npreferences[propuestas[j]].remove(j)\n",
        "          npreferences[j].remove(propuestas[j])\n",
        "          propuestas[j] = i\n",
        "          break\n",
        "        else:\n",
        "          npreferences[i].remove(j)\n",
        "          npreferences[j].remove(i)\n",
        "    prefer = copy.deepcopy(npreferences)\n",
        "  return (propuestas,prefer,pasos)\n",
        "\n",
        "def paso2(propuestas,prefer,pasos):\n",
        "  npreferences=copy.deepcopy(prefer)\n",
        "  for k in prefer:\n",
        "    indexpropuestas=npreferences[k].index(propuestas[k])\n",
        "    npreferences[k]= npreferences[k][:indexpropuestas+1]\n",
        "    #pasos+=1\n",
        "    for j in prefer:\n",
        "      key= getKey(propuestas,k)\n",
        "      if j != k and j != propuestas[k] and j != key:\n",
        "        try:\n",
        "          npreferences[j].remove(k)\n",
        "        except ValueError:\n",
        "          pass\n",
        "  return (npreferences,pasos)\n",
        "\n",
        "\n",
        "def paso3(prefer,pasos):\n",
        "  si=True\n",
        "  while True:\n",
        "    tabla=([],[])\n",
        "    if noEstable(prefer):\n",
        "      print(\"No existe parejas estables.\")\n",
        "      return False\n",
        "    for i in prefer:\n",
        "      if len(prefer[i]) >= 2 and si == True:\n",
        "        match1 = i\n",
        "        tabla[0].append(match1)\n",
        "        match2 = prefer[i][1]\n",
        "        tabla[1].append(match2)\n",
        "        si=False\n",
        "        pasos+=1\n",
        "      elif si==False:\n",
        "        if (ciclo(tabla)):\n",
        "          prefer=quitarCiclo(prefer,tabla)\n",
        "          si = True\n",
        "          pasos+=1\n",
        "          break\n",
        "        match1 = prefer[match2][-1]\n",
        "        tabla[0].append(match1)\n",
        "        match2 = prefer[match1][1]\n",
        "        tabla[1].append(match2)\n",
        "        pasos+=1\n",
        "    if esEstable(prefer):\n",
        "      return (prefer,pasos)\n",
        "\n",
        "  return False\n",
        "def irving(prefer):\n",
        "  a=paso1(prefer)\n",
        "  propuestas=a[0]\n",
        "  if propuestas==False:\n",
        "    return False\n",
        "  prefer1=a[1]\n",
        "  pasos=a[2]\n",
        "  prefer2=paso2(propuestas,prefer1,pasos)[0]\n",
        "  pasos=paso2(propuestas,prefer1,pasos)[1]\n",
        "  if prefer2==False:\n",
        "    return False\n",
        "  prefer3=paso3(prefer2,pasos)\n",
        "  matches=prefer3[0]\n",
        "  pasos=prefer3[1]\n",
        "  for i in matches:\n",
        "    a=i\n",
        "    for j in matches[i]:\n",
        "      print(a,\" => \", j)\n",
        "  print(\"Numero de Veces del algoritmo \",pasos)"
      ],
      "execution_count": 33,
      "outputs": []
    },
    {
      "cell_type": "markdown",
      "metadata": {
        "id": "rK6YWel3ZBBL"
      },
      "source": [
        "Worst Case"
      ]
    },
    {
      "cell_type": "code",
      "metadata": {
        "colab": {
          "base_uri": "https://localhost:8080/"
        },
        "id": "IHdpIlZgY-pO",
        "outputId": "38a72293-c84f-4059-8b58-c36ede320220"
      },
      "source": [
        "# Para N=4\n",
        "def worst(n):\n",
        "  prefer={}\n",
        "  for k in range(n):\n",
        "      ni=n\n",
        "      list=[]\n",
        "      for i in range(k+1,n):\n",
        "        list.append(i)\n",
        "      for j in range (k):\n",
        "        list.append(j)\n",
        "      prefer[k]=list\n",
        "  return prefer\n",
        "a=worst(4)\n",
        "irving(a)"
      ],
      "execution_count": 34,
      "outputs": [
        {
          "output_type": "stream",
          "text": [
            "0  =>  3\n",
            "1  =>  2\n",
            "2  =>  1\n",
            "3  =>  0\n",
            "Numero de Veces del algoritmo  8\n"
          ],
          "name": "stdout"
        }
      ]
    },
    {
      "cell_type": "code",
      "metadata": {
        "colab": {
          "base_uri": "https://localhost:8080/"
        },
        "id": "d8FsLtXpYu5l",
        "outputId": "ea8c2bc4-143f-4a83-fa89-f05a46719045"
      },
      "source": [
        "# for N=40\n",
        "a = worst(40)\n",
        "irving(a)"
      ],
      "execution_count": 38,
      "outputs": [
        {
          "output_type": "stream",
          "text": [
            "0  =>  39\n",
            "1  =>  2\n",
            "2  =>  1\n",
            "3  =>  4\n",
            "4  =>  3\n",
            "5  =>  6\n",
            "6  =>  5\n",
            "7  =>  8\n",
            "8  =>  7\n",
            "9  =>  10\n",
            "10  =>  9\n",
            "11  =>  12\n",
            "12  =>  11\n",
            "13  =>  14\n",
            "14  =>  13\n",
            "15  =>  16\n",
            "16  =>  15\n",
            "17  =>  18\n",
            "18  =>  17\n",
            "19  =>  20\n",
            "20  =>  19\n",
            "21  =>  22\n",
            "22  =>  21\n",
            "23  =>  24\n",
            "24  =>  23\n",
            "25  =>  26\n",
            "26  =>  25\n",
            "27  =>  28\n",
            "28  =>  27\n",
            "29  =>  30\n",
            "30  =>  29\n",
            "31  =>  32\n",
            "32  =>  31\n",
            "33  =>  34\n",
            "34  =>  33\n",
            "35  =>  36\n",
            "36  =>  35\n",
            "37  =>  38\n",
            "38  =>  37\n",
            "39  =>  0\n",
            "Numero de Veces del algoritmo  62\n"
          ],
          "name": "stdout"
        }
      ]
    },
    {
      "cell_type": "markdown",
      "metadata": {
        "id": "1Cxaex6hZE_o"
      },
      "source": [
        "Best Case"
      ]
    },
    {
      "cell_type": "code",
      "metadata": {
        "colab": {
          "base_uri": "https://localhost:8080/"
        },
        "id": "pZyj4dRoZkQg",
        "outputId": "0bbfde16-9b4e-41ee-f8ca-17f52efe2951"
      },
      "source": [
        "import random\n",
        "# for N = 4\n",
        "def best(n):\n",
        "  prefer={}\n",
        "  for k in range(n):\n",
        "      list=[]\n",
        "      list.append(n-k-1)\n",
        "      while not len(list)==n-1:\n",
        "        r=random.randint(0,n-1)\n",
        "        if r not in list and r!=k:\n",
        "          list.append(r)\n",
        "      prefer[k]=list\n",
        "  return prefer\n",
        "irving(best(4))"
      ],
      "execution_count": 39,
      "outputs": [
        {
          "output_type": "stream",
          "text": [
            "0  =>  3\n",
            "1  =>  2\n",
            "2  =>  1\n",
            "3  =>  0\n",
            "Numero de Veces del algoritmo  4\n"
          ],
          "name": "stdout"
        }
      ]
    },
    {
      "cell_type": "code",
      "metadata": {
        "colab": {
          "base_uri": "https://localhost:8080/"
        },
        "id": "AamoUg4PYiyx",
        "outputId": "4bda970e-1ac2-4536-e1f2-13a2c46f66a0"
      },
      "source": [
        "# for N = 40\n",
        "irving(best(40))"
      ],
      "execution_count": 40,
      "outputs": [
        {
          "output_type": "stream",
          "text": [
            "0  =>  39\n",
            "1  =>  38\n",
            "2  =>  37\n",
            "3  =>  36\n",
            "4  =>  35\n",
            "5  =>  34\n",
            "6  =>  33\n",
            "7  =>  32\n",
            "8  =>  31\n",
            "9  =>  30\n",
            "10  =>  29\n",
            "11  =>  28\n",
            "12  =>  27\n",
            "13  =>  26\n",
            "14  =>  25\n",
            "15  =>  24\n",
            "16  =>  23\n",
            "17  =>  22\n",
            "18  =>  21\n",
            "19  =>  20\n",
            "20  =>  19\n",
            "21  =>  18\n",
            "22  =>  17\n",
            "23  =>  16\n",
            "24  =>  15\n",
            "25  =>  14\n",
            "26  =>  13\n",
            "27  =>  12\n",
            "28  =>  11\n",
            "29  =>  10\n",
            "30  =>  9\n",
            "31  =>  8\n",
            "32  =>  7\n",
            "33  =>  6\n",
            "34  =>  5\n",
            "35  =>  4\n",
            "36  =>  3\n",
            "37  =>  2\n",
            "38  =>  1\n",
            "39  =>  0\n",
            "Numero de Veces del algoritmo  40\n"
          ],
          "name": "stdout"
        }
      ]
    },
    {
      "cell_type": "markdown",
      "metadata": {
        "id": "vwrj2kLrmDv0"
      },
      "source": [
        "#2. Run the Gale-Shapley Algorithm 100 times using random permutations as preference lists for n=4 and 40. Find the minimum, maximum and average number of iterations and plot the distribution of the number of iterations."
      ]
    },
    {
      "cell_type": "markdown",
      "metadata": {
        "id": "2ZWAdYlQSlT_"
      },
      "source": [
        "##Random preference list"
      ]
    },
    {
      "cell_type": "code",
      "metadata": {
        "id": "J9tRakXyqR4Y"
      },
      "source": [
        "import random\n",
        "import copy\n",
        "def preferMarriages(n):\n",
        "  prefer=[]\n",
        "  nn=2*n\n",
        "  for j in range(n):\n",
        "    list=[]\n",
        "    while not len(list)==n:\n",
        "      r=random.randint(0,n-1)\n",
        "      if r not in list: list.append(r)\n",
        "    prefer.insert(j,list)\n",
        "  for k in range(n):\n",
        "    list=[]\n",
        "    while not len(list)==n:\n",
        "      r=random.randint(n+1,nn)\n",
        "      if r not in list: list.append(r)\n",
        "    prefer.insert(n+k,list)\n",
        "  return prefer"
      ],
      "execution_count": 41,
      "outputs": []
    },
    {
      "cell_type": "code",
      "metadata": {
        "id": "Ji4ToP2bUq5h"
      },
      "source": [
        "# Esta función se cumple si la mujer 'w' prefiere al hombre 'm1' sobre el hombre 'm'. \n",
        "def wPrefersM1OverM(prefer, w, m, m1, n): \n",
        "      \n",
        "    N = n  \n",
        "#Comprueba si w prefiere m sobre su actual compromiso m1 \n",
        "    for i in range(N): \n",
        "          \n",
        "        # Si m1 viene antes que m en lisr de w, entonces w prefiere su actual compromiso, no hagas nada \n",
        "        if (prefer[w][i] == m1): \n",
        "            return True\n",
        "  \n",
        "        # Si m cmes antes de m1 en la lista de w, entonces libera su compromiso actual y comprométela con m \n",
        "        if (prefer[w][i] == m): \n",
        "            return False\n",
        "            \n",
        "# Las impresiones son estables y coinciden con las de los chicos y las chicas N.  \n",
        "# Los hombres están numerados de 0 a N-1.  \n",
        "# Las mujeres se numeran como N a 2N-1. \n",
        "def stableMarriage(prefer, n): \n",
        "      \n",
        "    # Almacena pareja de mujeres. Esta es nuestra matriz de salida que almacena la información  \n",
        "    # El valor de wPartner[i] indica la pareja asignada a la mujer N+i. Note que la mujer se numera entre N y 2*N-1. El valor -1 indica que (N+i)'la mujer está libre \n",
        "    N = n\n",
        "    wPartner = [-1 for i in range(N)] \n",
        "  \n",
        "    # Un arreglo para almacenar la disponibilidad de los hombres.  \n",
        "    # Si mFree[i] es falso, entonces el hombre 'i' es libre, de lo contrario está comprometido. \n",
        "    mFree = [False for i in range(N)] \n",
        "  \n",
        "    freeCount = N \n",
        "    count = 0\n",
        "    # Mientras haya hombres libres \n",
        "    while (freeCount > 0): \n",
        "          \n",
        "        count += 1  \n",
        "        # Escoge el primer hombre libre (podemos escoger cualquiera) \n",
        "        m = 0\n",
        "        while (m < N): \n",
        "            if (mFree[m] == False): \n",
        "                break\n",
        "            m += 1\n",
        "  \n",
        "        # Una por una van a todas las mujeres de acuerdo a las preferencias de m. Aquí m es el hombre libre elegido \n",
        "        i = 0\n",
        "        while i < N and mFree[m] == False: \n",
        "            w = prefer[m][i] \n",
        "  \n",
        "            # La mujer de preferencia es libre, w y m se convierten en socias (Nota que la sociedad puede cambiar más tarde).  \n",
        "            # Así que podemos decir que están comprometidos no casados \n",
        "            if (wPartner[w - N] == -1): \n",
        "                wPartner[w - N] = m \n",
        "                mFree[m] = True\n",
        "                freeCount -= 1\n",
        "  \n",
        "            else:  \n",
        "                  \n",
        "                # Si w no está libre\n",
        "                # Encuentra el compromiso actual de w \n",
        "                m1 = wPartner[w - N] \n",
        "  \n",
        "                # Si w prefiere m sobre su actual compromiso m1, entonces rompe el compromiso entre w y m1 y compromete m con w. \n",
        "                if (wPrefersM1OverM(prefer, w, m, m1, n) == False): \n",
        "                    wPartner[w - N] = m \n",
        "                    mFree[m] = True\n",
        "                    mFree[m1] = False\n",
        "            i += 1\n",
        "  \n",
        "    # Fin del bucle for que va a todas las mujeres de la lista de m \n",
        "       \n",
        "    return count"
      ],
      "execution_count": 43,
      "outputs": []
    },
    {
      "cell_type": "code",
      "metadata": {
        "colab": {
          "base_uri": "https://localhost:8080/"
        },
        "id": "9UsQYzyjTEQg",
        "outputId": "bebdc24b-23e4-41a6-84a1-2e1c14dfbe1b"
      },
      "source": [
        "import matplotlib.pyplot as plt\n",
        "import numpy as np\n",
        "\n",
        "def Average(lst): \n",
        "    return sum(lst) / len(lst) \n",
        "\n",
        "# 100 veces para N = 4\n",
        "lot = []\n",
        "for i in range(100):\n",
        "  lot.append(stableMarriage(preferMarriages(4),4))\n",
        "\n",
        "aux = lot\n",
        "res = []\n",
        "Ma = 0\n",
        "Mi = 100\n",
        "#Minimo, Maximo y Promedio\n",
        "for i in aux:\n",
        "  x = aux.pop(0)\n",
        "  if (x > Ma):\n",
        "    Ma = x\n",
        "  if (x < Mi):\n",
        "    Mi = x\n",
        "print(\"Maximo: \", Ma, \" Minimo: \", Mi, \" Promedio: \", Average(lot))"
      ],
      "execution_count": 46,
      "outputs": [
        {
          "output_type": "stream",
          "text": [
            "Maximo:  7  Minimo:  4  Promedio:  5.08\n"
          ],
          "name": "stdout"
        }
      ]
    },
    {
      "cell_type": "code",
      "metadata": {
        "colab": {
          "base_uri": "https://localhost:8080/",
          "height": 312
        },
        "id": "H3NS4krAUx96",
        "outputId": "6d6f1dd3-1e8b-483c-f383-643351655ebd"
      },
      "source": [
        "plt.plot(lot)   # Dibuja el gráfico\n",
        "plt.title(\"Título\")   # Establece el título del gráfico\n",
        "plt.xlabel(\"Total\")   # Establece el título del eje x\n",
        "plt.ylabel(\"Times\")   # Establece el título del eje y"
      ],
      "execution_count": 47,
      "outputs": [
        {
          "output_type": "execute_result",
          "data": {
            "text/plain": [
              "Text(0, 0.5, 'Times')"
            ]
          },
          "metadata": {
            "tags": []
          },
          "execution_count": 47
        },
        {
          "output_type": "display_data",
          "data": {
            "image/png": "[encoded data removed]",
            "text/plain": [
              "<Figure size 432x288 with 1 Axes>"
            ]
          },
          "metadata": {
            "tags": [],
            "needs_background": "light"
          }
        }
      ]
    },
    {
      "cell_type": "code",
      "metadata": {
        "colab": {
          "base_uri": "https://localhost:8080/"
        },
        "id": "gzb9mJy4XTft",
        "outputId": "c202640e-a1f8-49a2-95d2-91d3ddec1227"
      },
      "source": [
        "import matplotlib.pyplot as plt\n",
        "import numpy as np\n",
        "\n",
        "def Average(lst): \n",
        "    return sum(lst) / len(lst) \n",
        "\n",
        "# 100 veces para N = 40\n",
        "lot = []\n",
        "for i in range(100):\n",
        "  lot.append(stableMarriage(preferMarriages(40),40))\n",
        "\n",
        "aux = lot\n",
        "res = []\n",
        "Ma = 0\n",
        "Mi = 100\n",
        "#Minimun, Maximun y Promedio\n",
        "for i in aux:\n",
        "  x = aux.pop(0)\n",
        "  if (x > Ma):\n",
        "    Ma = x\n",
        "  if (x < Mi):\n",
        "    Mi = x\n",
        "print(\"Maximo: \", Ma, \" Minimo: \", Mi, \" Promedio: \", Average(lot))"
      ],
      "execution_count": 49,
      "outputs": [
        {
          "output_type": "stream",
          "text": [
            "Maximo:  97  Minimo:  62  Promedio:  76.94\n"
          ],
          "name": "stdout"
        }
      ]
    },
    {
      "cell_type": "code",
      "metadata": {
        "colab": {
          "base_uri": "https://localhost:8080/",
          "height": 312
        },
        "id": "mIoIERXeXZ9R",
        "outputId": "39adf5fd-13d4-4e83-e555-04e3d5dd9a34"
      },
      "source": [
        "plt.plot(lot)   # Dibuja el gráfico\n",
        "plt.title(\"Título\")   # Establece el título del gráfico\n",
        "plt.xlabel(\"Total\")   # Establece el título del eje x\n",
        "plt.ylabel(\"Times\")   # Establece el título del eje y"
      ],
      "execution_count": 50,
      "outputs": [
        {
          "output_type": "execute_result",
          "data": {
            "text/plain": [
              "Text(0, 0.5, 'Times')"
            ]
          },
          "metadata": {
            "tags": []
          },
          "execution_count": 50
        },
        {
          "output_type": "display_data",
          "data": {
            "image/png": "[encoded data removed]",
            "text/plain": [
              "<Figure size 432x288 with 1 Axes>"
            ]
          },
          "metadata": {
            "tags": [],
            "needs_background": "light"
          }
        }
      ]
    }
  ]
}